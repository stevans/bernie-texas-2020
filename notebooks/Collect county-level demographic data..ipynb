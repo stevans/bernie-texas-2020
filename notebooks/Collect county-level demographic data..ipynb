{
 "cells": [
  {
   "cell_type": "code",
   "execution_count": 1,
   "metadata": {},
   "outputs": [],
   "source": [
    "#Step 1: load data."
   ]
  },
  {
   "cell_type": "code",
   "execution_count": 2,
   "metadata": {},
   "outputs": [],
   "source": [
    "#Step 1a: load data from ACS \n",
    "#using censusdata package and documentation \n",
    "#from here: https://github.com/jtleider/censusdata"
   ]
  },
  {
   "cell_type": "code",
   "execution_count": 3,
   "metadata": {},
   "outputs": [],
   "source": [
    "import sys\n",
    "sys.path.append('..')"
   ]
  },
  {
   "cell_type": "code",
   "execution_count": 4,
   "metadata": {},
   "outputs": [],
   "source": [
    "from src.data.censusdata import censusdata"
   ]
  },
  {
   "cell_type": "code",
   "execution_count": 5,
   "metadata": {},
   "outputs": [],
   "source": [
    "import pandas as pd"
   ]
  },
  {
   "cell_type": "code",
   "execution_count": 6,
   "metadata": {},
   "outputs": [],
   "source": [
    "pd.set_option('display.expand_frame_repr', False)\n",
    "pd.set_option('display.precision', 2)"
   ]
  },
  {
   "cell_type": "code",
   "execution_count": 7,
   "metadata": {},
   "outputs": [],
   "source": [
    "#Search for table and variable combinations for desired stats."
   ]
  },
  {
   "cell_type": "code",
   "execution_count": 8,
   "metadata": {},
   "outputs": [],
   "source": [
    "acs_version = 'acs5' #or 'acs5'"
   ]
  },
  {
   "cell_type": "code",
   "execution_count": 9,
   "metadata": {},
   "outputs": [],
   "source": [
    "#search for race-related variables\n",
    "#output supressed.\n",
    "\n",
    "#censusdata.search(acs_version, 2018, 'label', 'white')"
   ]
  },
  {
   "cell_type": "code",
   "execution_count": 10,
   "metadata": {},
   "outputs": [],
   "source": [
    "#censusdata.printtable(censusdata.censustable(acs_version, 2018, 'B02001'))"
   ]
  },
  {
   "cell_type": "code",
   "execution_count": 11,
   "metadata": {},
   "outputs": [],
   "source": [
    "#censusdata.printtable(censusdata.censustable(acs_version, 2018, 'B03002'))"
   ]
  },
  {
   "cell_type": "code",
   "execution_count": 12,
   "metadata": {},
   "outputs": [],
   "source": [
    "#White, not Hispanic: B03002_003E (from total: B03002_001E)\n",
    "#White, Hispanic: B03002_013E (from total: B03002_001E)\n",
    "#Black: B02001_003E (from total: B02001_001E)\n",
    "#Other: If totals are equal: (B02001_001E and B03002_001E) then other is total minus \n",
    "#White, not Hispanic plus White, Hispanic plus Black.\n",
    "\n",
    "#Will check it out after finding geography codes."
   ]
  },
  {
   "cell_type": "code",
   "execution_count": 13,
   "metadata": {},
   "outputs": [],
   "source": [
    "#search for Socioeconomic status-related variables\n",
    "#censusdata.search(acs_version, 2018, 'label', 'degree')"
   ]
  },
  {
   "cell_type": "code",
   "execution_count": 14,
   "metadata": {},
   "outputs": [],
   "source": [
    "#censusdata.printtable(censusdata.censustable(acs_version, 2018, 'B15003'))"
   ]
  },
  {
   "cell_type": "code",
   "execution_count": 15,
   "metadata": {},
   "outputs": [],
   "source": [
    "#censusdata.search(acs_version, 2018, 'label', 'per capita income')"
   ]
  },
  {
   "cell_type": "code",
   "execution_count": 16,
   "metadata": {},
   "outputs": [],
   "source": [
    "#censusdata.printtable(censusdata.censustable(acs_version, 2018, 'B19301'))"
   ]
  },
  {
   "cell_type": "code",
   "execution_count": 17,
   "metadata": {},
   "outputs": [],
   "source": [
    "#Finding geography codes for all counties in Texas"
   ]
  },
  {
   "cell_type": "code",
   "execution_count": 18,
   "metadata": {
    "scrolled": true
   },
   "outputs": [],
   "source": [
    "#output supressed.\n",
    "#censusdata.geographies(censusdata.censusgeo([('state', '*')]), acs_version, 2018)\n",
    "#Texas is '48'\n",
    "#censusdata.geographies(censusdata.censusgeo([('state', '48'), ('county', '*')]), acs_version, 2018)\n",
    "#Travis County is '453' (used for testing)"
   ]
  },
  {
   "cell_type": "code",
   "execution_count": 19,
   "metadata": {},
   "outputs": [],
   "source": [
    "txcounties = censusdata.download(acs_version, 2018,\n",
    "                             censusdata.censusgeo([('state', '48'), ('county', '*')]),\n",
    "                             ['B03002_001E','B02001_001E','B03002_003E','B03002_013E','B02001_003E', \\\n",
    "                              'B15003_022E','B15003_001E', \\\n",
    "                              'B19301_001E'])\n"
   ]
  },
  {
   "cell_type": "code",
   "execution_count": 20,
   "metadata": {},
   "outputs": [],
   "source": [
    "#Check that total from the two tables are the same for all counties in Texas.\n",
    "assert (txcounties.B03002_001E == txcounties.B02001_001E).all()"
   ]
  },
  {
   "cell_type": "code",
   "execution_count": 21,
   "metadata": {},
   "outputs": [],
   "source": [
    "txcounties['percent_white_nh'] = txcounties.B03002_003E / txcounties.B03002_001E * 100\n",
    "txcounties['percent_hispanic'] = txcounties.B03002_013E / txcounties.B03002_001E * 100\n",
    "txcounties['percent_black'] = txcounties.B02001_003E / txcounties.B02001_001E * 100\n",
    "txcounties['percent_other'] = 100. - txcounties['percent_white_nh'] - \\\n",
    "                                txcounties['percent_hispanic'] - txcounties['percent_black']\n",
    "\n",
    "txcounties['percent_w4yrdeg'] = txcounties.B15003_022E / txcounties.B15003_001E * 100\n",
    "txcounties['per_capita_income'] = txcounties.B19301_001E\n"
   ]
  },
  {
   "cell_type": "code",
   "execution_count": 22,
   "metadata": {},
   "outputs": [
    {
     "data": {
      "text/html": [
       "<div>\n",
       "<style scoped>\n",
       "    .dataframe tbody tr th:only-of-type {\n",
       "        vertical-align: middle;\n",
       "    }\n",
       "\n",
       "    .dataframe tbody tr th {\n",
       "        vertical-align: top;\n",
       "    }\n",
       "\n",
       "    .dataframe thead th {\n",
       "        text-align: right;\n",
       "    }\n",
       "</style>\n",
       "<table border=\"1\" class=\"dataframe\">\n",
       "  <thead>\n",
       "    <tr style=\"text-align: right;\">\n",
       "      <th></th>\n",
       "      <th>percent_white_nh</th>\n",
       "      <th>percent_hispanic</th>\n",
       "      <th>percent_black</th>\n",
       "      <th>percent_other</th>\n",
       "      <th>percent_w4yrdeg</th>\n",
       "      <th>per_capita_income</th>\n",
       "    </tr>\n",
       "  </thead>\n",
       "  <tbody>\n",
       "    <tr>\n",
       "      <th>count</th>\n",
       "      <td>254.00</td>\n",
       "      <td>254.00</td>\n",
       "      <td>254.00</td>\n",
       "      <td>254.00</td>\n",
       "      <td>254.00</td>\n",
       "      <td>254.00</td>\n",
       "    </tr>\n",
       "    <tr>\n",
       "      <th>mean</th>\n",
       "      <td>56.13</td>\n",
       "      <td>27.77</td>\n",
       "      <td>6.34</td>\n",
       "      <td>9.76</td>\n",
       "      <td>12.88</td>\n",
       "      <td>25497.25</td>\n",
       "    </tr>\n",
       "    <tr>\n",
       "      <th>std</th>\n",
       "      <td>21.21</td>\n",
       "      <td>21.54</td>\n",
       "      <td>6.61</td>\n",
       "      <td>8.06</td>\n",
       "      <td>4.77</td>\n",
       "      <td>5292.63</td>\n",
       "    </tr>\n",
       "    <tr>\n",
       "      <th>min</th>\n",
       "      <td>0.73</td>\n",
       "      <td>1.68</td>\n",
       "      <td>0.00</td>\n",
       "      <td>0.29</td>\n",
       "      <td>0.00</td>\n",
       "      <td>13350.00</td>\n",
       "    </tr>\n",
       "    <tr>\n",
       "      <th>25%</th>\n",
       "      <td>41.94</td>\n",
       "      <td>13.35</td>\n",
       "      <td>1.07</td>\n",
       "      <td>4.80</td>\n",
       "      <td>9.85</td>\n",
       "      <td>22265.50</td>\n",
       "    </tr>\n",
       "    <tr>\n",
       "      <th>50%</th>\n",
       "      <td>58.80</td>\n",
       "      <td>19.55</td>\n",
       "      <td>4.13</td>\n",
       "      <td>7.46</td>\n",
       "      <td>12.06</td>\n",
       "      <td>25128.50</td>\n",
       "    </tr>\n",
       "    <tr>\n",
       "      <th>75%</th>\n",
       "      <td>73.10</td>\n",
       "      <td>37.87</td>\n",
       "      <td>9.12</td>\n",
       "      <td>12.03</td>\n",
       "      <td>14.60</td>\n",
       "      <td>28453.75</td>\n",
       "    </tr>\n",
       "    <tr>\n",
       "      <th>max</th>\n",
       "      <td>90.66</td>\n",
       "      <td>94.35</td>\n",
       "      <td>33.84</td>\n",
       "      <td>58.29</td>\n",
       "      <td>33.05</td>\n",
       "      <td>43439.00</td>\n",
       "    </tr>\n",
       "  </tbody>\n",
       "</table>\n",
       "</div>"
      ],
      "text/plain": [
       "       percent_white_nh  percent_hispanic  percent_black  percent_other  percent_w4yrdeg  per_capita_income\n",
       "count            254.00            254.00         254.00         254.00           254.00             254.00\n",
       "mean              56.13             27.77           6.34           9.76            12.88           25497.25\n",
       "std               21.21             21.54           6.61           8.06             4.77            5292.63\n",
       "min                0.73              1.68           0.00           0.29             0.00           13350.00\n",
       "25%               41.94             13.35           1.07           4.80             9.85           22265.50\n",
       "50%               58.80             19.55           4.13           7.46            12.06           25128.50\n",
       "75%               73.10             37.87           9.12          12.03            14.60           28453.75\n",
       "max               90.66             94.35          33.84          58.29            33.05           43439.00"
      ]
     },
     "execution_count": 22,
     "metadata": {},
     "output_type": "execute_result"
    }
   ],
   "source": [
    "txcounties = txcounties[['percent_white_nh', 'percent_hispanic', 'percent_black','percent_other', \\\n",
    "                         'percent_w4yrdeg','per_capita_income']]\n",
    "txcounties.describe()"
   ]
  },
  {
   "cell_type": "code",
   "execution_count": null,
   "metadata": {},
   "outputs": [],
   "source": []
  }
 ],
 "metadata": {
  "kernelspec": {
   "display_name": "Python 3",
   "language": "python",
   "name": "python3"
  },
  "language_info": {
   "codemirror_mode": {
    "name": "ipython",
    "version": 3
   },
   "file_extension": ".py",
   "mimetype": "text/x-python",
   "name": "python",
   "nbconvert_exporter": "python",
   "pygments_lexer": "ipython3",
   "version": "3.8.3"
  }
 },
 "nbformat": 4,
 "nbformat_minor": 4
}
